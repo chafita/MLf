{
 "cells": [
  {
   "cell_type": "markdown",
   "id": "6d194350",
   "metadata": {},
   "source": [
    "# Partición\n"
   ]
  },
  {
   "cell_type": "code",
   "execution_count": 14,
   "id": "f9f67ed3",
   "metadata": {},
   "outputs": [],
   "source": [
    "import sys\n",
    "import numpy as np\n",
    "import matplotlib.pyplot as plt \n",
    "import pandas as pd\n",
    "import os\n",
    "from sklearn.model_selection import StratifiedShuffleSplit\n"
   ]
  },
  {
   "cell_type": "code",
   "execution_count": 16,
   "id": "6e8cd7e6",
   "metadata": {},
   "outputs": [
    {
     "data": {
      "text/plain": [
       "dict"
      ]
     },
     "execution_count": 16,
     "metadata": {},
     "output_type": "execute_result"
    }
   ],
   "source": [
    "# importo los datos\n",
    "import pickle\n",
    "with open('faces_dict.p', 'rb') as handle:\n",
    "        faces = pickle.load(handle)\n",
    "faces\n"
   ]
  },
  {
   "cell_type": "code",
   "execution_count": 4,
   "id": "7540ca09",
   "metadata": {},
   "outputs": [],
   "source": [
    "# inicio el metodo\n",
    "strat_split = StratifiedShuffleSplit(n_splits=1, test_size=40, random_state=42)\n",
    "# obtengo los indices para el train_valid y el test. (¿porque usa el next?)\n",
    "train_valid_idx, test_idx = next(strat_split.split(faces['data'], faces['target']))\n",
    "# genero el train y test\n",
    "X_train_valid = faces['data'][train_valid_idx]\n",
    "y_train_valid = faces['target'][train_valid_idx]\n",
    "X_test = faces['data'][test_idx]\n",
    "y_test = faces['target'][test_idx]\n",
    "\n",
    "# mismo procedimiento pero separo el train de la validacion\n",
    "strat_split = StratifiedShuffleSplit(n_splits=1, test_size=80, random_state=43)\n",
    "train_idx, valid_idx = next(strat_split.split(X_train_valid, y_train_valid))\n",
    "X_train = X_train_valid[train_idx]\n",
    "y_train = y_train_valid[train_idx]\n",
    "X_valid = X_train_valid[valid_idx]\n",
    "y_valid = y_train_valid[valid_idx]\n"
   ]
  },
  {
   "cell_type": "markdown",
   "id": "32d6f2d8",
   "metadata": {},
   "source": [
    "__faces__ es un diccionario que tiene tres key: 'data', 'image', 'terget'. Image es la matriz de grayscale que se puede usar para plotear la imagen, mientras que data son los mismos datos pero puestos en un array de 1D. Este ultimo van a ser los usados para entrenar, validar y testear el modelo."
   ]
  },
  {
   "cell_type": "markdown",
   "id": "cb39c1eb",
   "metadata": {},
   "source": [
    "* Separo del conjunto de datos el {train, validation, test}_set. Como son solo 400 fotos, me aseguro que este balanceado la cantidad de fotos por clases en cada set. Esto lo propongo de esta forma porque lo que estoy interesado es que mi modelo clasifique bien 40 ID de personas. Podria pasar que si no hago una particion balanceada, en el test o valid no tenga fotos de algun ID y no pueda calcular que tmbien clasifica en todos los casos mi modelo. \n",
    "\n",
    "\n",
    "* Comienzo por aca, luego puedo hacer un data augementation para aumentar la cantidad de datos. (**COMPLETAR**)\n",
    "\n"
   ]
  },
  {
   "cell_type": "code",
   "execution_count": 8,
   "id": "76cee5c4",
   "metadata": {
    "scrolled": true
   },
   "outputs": [
    {
     "name": "stdout",
     "output_type": "stream",
     "text": [
      "Dimensiones de la matriz faces.image:\n",
      "h: 64\n",
      "w: 64\n",
      "Tamaño total de la data:\n",
      "n_samples: 400\n",
      "n_features: 4096\n",
      "n_classes: 40\n"
     ]
    }
   ],
   "source": [
    "# inspeccion de los tamaños de las matrices de faces.images\n",
    "n_samples, h, w = faces['images'].shape\n",
    "\n",
    "# Variable X y features para el el modelo de ML\n",
    "X = faces['data']\n",
    "n_features = X.shape[1]\n",
    "\n",
    "# El target a predecir es la ID de la persona.\n",
    "y = faces['target']\n",
    "n_classes = len(np.unique(y))\n",
    "\n",
    "print(\"Dimensiones de la matriz faces.image:\")\n",
    "print(\"h: %d\" % h)\n",
    "print(\"w: %d\" % w)\n",
    "print(\"Tamaño total de la data:\")\n",
    "print(\"n_samples: %d\" % n_samples)\n",
    "print(\"n_features: %d\" % n_features)\n",
    "print(\"n_classes: %d\" % n_classes)\n"
   ]
  },
  {
   "cell_type": "markdown",
   "id": "92bd3731",
   "metadata": {},
   "source": [
    "#### Grafico los porcentajes de las particiones"
   ]
  },
  {
   "cell_type": "code",
   "execution_count": 9,
   "id": "2b32ad02",
   "metadata": {},
   "outputs": [
    {
     "name": "stdout",
     "output_type": "stream",
     "text": [
      "(280, 4096) (280,)\n",
      "(80, 4096) (80,)\n",
      "(40, 4096) (40,)\n"
     ]
    },
    {
     "data": {
      "image/png": "[encoded data removed]",
      "text/plain": [
       "<Figure size 432x288 with 1 Axes>"
      ]
     },
     "metadata": {},
     "output_type": "display_data"
    }
   ],
   "source": [
    "print(X_train.shape, y_train.shape)\n",
    "print(X_valid.shape, y_valid.shape)\n",
    "print(X_test.shape, y_test.shape)\n",
    "totalsize=X_train.shape[0]+X_valid.shape[0]+X_test.shape[0]\n",
    "\n",
    "labels = 'train', 'valid', 'test'\n",
    "sizes = [X_train.shape[0]/totalsize, X_valid.shape[0]/totalsize, X_test.shape[0]/totalsize]\n",
    "explode = (0.05, 0.05, 0.05)  # only \"explode\" the 2nd slice (i.e. 'Hogs')\n",
    "\n",
    "fig1, ax1 = plt.subplots()\n",
    "ax1.set_title('División de cantidad de fotos', fontsize=15)\n",
    "ax1.pie(sizes, explode=explode, labels=labels, autopct='%1.1f%%',\n",
    "        shadow=True, startangle=90)\n",
    "ax1.axis('equal')  # Equal aspect ratio ensures that pie is drawn as a circle.\n",
    "plt.show()"
   ]
  },
  {
   "cell_type": "markdown",
   "id": "a0039dbe",
   "metadata": {},
   "source": [
    "* Hasta aca tengo particionado la data (y augmentada) en:\n",
    "    1. Train..70% --> 280\n",
    "    2. Valid..20% --> 80\n",
    "    3. Test...10% --> 40\n"
   ]
  },
  {
   "cell_type": "markdown",
   "id": "e350f859",
   "metadata": {},
   "source": [
    "### Guardo los datos"
   ]
  },
  {
   "cell_type": "code",
   "execution_count": 20,
   "id": "57277d9a",
   "metadata": {},
   "outputs": [],
   "source": [
    "train = {}\n",
    "train['X']=X_train\n",
    "train['y']=y_train\n",
    "with open('faces_dict_train.p', 'wb') as handle:\n",
    "    pickle.dump(train, handle, protocol=pickle.HIGHEST_PROTOCOL)\n",
    "    \n",
    "valid = {}\n",
    "valid['X']=X_valid\n",
    "valid['y']=y_valid\n",
    "with open('faces_dict_valid.p', 'wb') as handle:\n",
    "    pickle.dump(valid, handle, protocol=pickle.HIGHEST_PROTOCOL)\n",
    "    \n",
    "test = {}\n",
    "test['X']=X_test\n",
    "test['y']=y_test\n",
    "with open('faces_dict_test.p', 'wb') as handle:\n",
    "    pickle.dump(test, handle, protocol=pickle.HIGHEST_PROTOCOL)"
   ]
  },
  {
   "cell_type": "code",
   "execution_count": 18,
   "id": "3e7458ae",
   "metadata": {},
   "outputs": [
    {
     "name": "stdout",
     "output_type": "stream",
     "text": [
      "Object `pickle.save` not found.\n"
     ]
    }
   ],
   "source": []
  },
  {
   "cell_type": "code",
   "execution_count": null,
   "id": "3173e11b",
   "metadata": {},
   "outputs": [],
   "source": []
  }
 ],
 "metadata": {
  "kernelspec": {
   "display_name": "Python 3 (ipykernel)",
   "language": "python",
   "name": "python3"
  },
  "language_info": {
   "codemirror_mode": {
    "name": "ipython",
    "version": 3
   },
   "file_extension": ".py",
   "mimetype": "text/x-python",
   "name": "python",
   "nbconvert_exporter": "python",
   "pygments_lexer": "ipython3",
   "version": "3.9.7"
  }
 },
 "nbformat": 4,
 "nbformat_minor": 5
}
